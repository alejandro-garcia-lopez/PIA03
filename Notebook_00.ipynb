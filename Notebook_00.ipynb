{
  "nbformat": 4,
  "nbformat_minor": 0,
  "metadata": {
    "colab": {
      "provenance": []
    },
    "kernelspec": {
      "name": "python3",
      "display_name": "Python 3"
    },
    "language_info": {
      "name": "python"
    }
  },
  "cells": [
    {
      "cell_type": "markdown",
      "source": [
        "# Lista de Conciertos Semanales\n",
        "## Grupos de rock de los 90 en ciudades europeas\n"
      ],
      "metadata": {
        "id": "jwFTHILS2goG"
      }
    },
    {
      "cell_type": "markdown",
      "source": [
        "# Realizado con:\n",
        "![Logo de Python](https://www.python.org/static/community_logos/python-logo-master-v3-TM.png)\n",
        "\n",
        "Consulta más información sobre Python en el siguiente enlace:  \n",
        "[Documentación oficial de Python](https://www.python.org/doc/)\n"
      ],
      "metadata": {
        "id": "UvkcyNYb3F0u"
      }
    },
    {
      "cell_type": "code",
      "execution_count": null,
      "metadata": {
        "id": "AKtRfdt-suZz"
      },
      "outputs": [],
      "source": [
        "import this"
      ]
    },
    {
      "cell_type": "code",
      "source": [
        "# Lista de 10 nombres de ciudades\n",
        "ciudades = [\"Londres\", \"París\", \"Berlín\", \"Roma\", \"Madrid\", \"Ámsterdam\", \"Lisboa\", \"Praga\", \"Dublín\", \"Viena\"]\n",
        "\n",
        "# haz que se muestre utilizando print()\n",
        "print(ciudades)\n"
      ],
      "metadata": {
        "colab": {
          "base_uri": "https://localhost:8080/"
        },
        "id": "LCc_Kh76vBgP",
        "outputId": "f8b58a64-ca07-4324-e928-5f25de88a078"
      },
      "execution_count": 3,
      "outputs": [
        {
          "output_type": "stream",
          "name": "stdout",
          "text": [
            "['Londres', 'París', 'Berlín', 'Roma', 'Madrid', 'Ámsterdam', 'Lisboa', 'Praga', 'Dublín', 'Viena']\n"
          ]
        }
      ]
    },
    {
      "cell_type": "markdown",
      "source": [
        "Este cuaderno contiene información sobre **grupos de música** y sus conciertos en **ciudades de toda Europa**.  \n",
        "*Explora las listas y sigue los ejercicios para actualizar la información.*\n"
      ],
      "metadata": {
        "id": "73uxw_kY21q5"
      }
    },
    {
      "cell_type": "code",
      "source": [
        "# Lista con 10 nombres de grupos de música\n",
        "grupos = [\"Nirvana\", \"Pearl Jam\", \"Radiohead\", \"Red Hot Chili Peppers\", \"The Smashing Pumpkins\",\n",
        "            \"Oasis\", \"Green Day\", \"Foo Fighters\", \"Blur\", \"Metallica\"]\n",
        "\n",
        "# utiliza print() para mostrar la lista\n",
        "print(grupos)\n"
      ],
      "metadata": {
        "colab": {
          "base_uri": "https://localhost:8080/"
        },
        "id": "q0tyxApZwFdO",
        "outputId": "5e9ccbb0-f85e-4217-f53f-7f1473093e8f"
      },
      "execution_count": 4,
      "outputs": [
        {
          "output_type": "stream",
          "name": "stdout",
          "text": [
            "['Nirvana', 'Pearl Jam', 'Radiohead', 'Red Hot Chili Peppers', 'The Smashing Pumpkins', 'Oasis', 'Green Day', 'Foo Fighters', 'Blur', 'Metallica']\n"
          ]
        }
      ]
    },
    {
      "cell_type": "markdown",
      "source": [
        "### 🎶 Relación de Artistas y Ciudades\n",
        "En esta sección, crearemos un **diccionario de Python** para relacionar cada grupo con la ciudad donde se realizará su concierto.\n",
        "\n",
        "El formato del diccionario es el siguiente:\n",
        "\n",
        "```python\n",
        "{\n",
        "    \"artista_1\": \"ciudad_1\",\n",
        "    \"artista_2\": \"ciudad_2\",\n",
        "    ...\n",
        "}\n"
      ],
      "metadata": {
        "id": "qI__mZ4M4IeG"
      }
    },
    {
      "cell_type": "code",
      "source": [
        "# Diccionario en el que la clave sea el nombre del artista y el valor sea el nombre de una ciudad\n",
        "conciertos = {\n",
        "    \"Nirvana\": \"Londres\",\n",
        "    \"Pearl Jam\": \"París\",\n",
        "    \"Radiohead\": \"Berlín\",\n",
        "    \"Red Hot Chili Peppers\": \"Roma\",\n",
        "    \"The Smashing Pumpkins\": \"Madrid\",\n",
        "    \"Oasis\": \"Ámsterdam\",\n",
        "    \"Green Day\": \"Lisboa\",\n",
        "    \"Foo Fighters\": \"Praga\",\n",
        "    \"Blur\": \"Dublín\",\n",
        "    \"Metallica\": \"Viena\"\n",
        "}\n",
        "\n",
        "# Mostrar el diccionario\n",
        "print(conciertos)"
      ],
      "metadata": {
        "colab": {
          "base_uri": "https://localhost:8080/"
        },
        "id": "aHCLBwg0woch",
        "outputId": "1dec0926-0c0a-4d8b-9ba8-8a554ba19aa7"
      },
      "execution_count": 22,
      "outputs": [
        {
          "output_type": "stream",
          "name": "stdout",
          "text": [
            "{'Nirvana': 'Londres', 'Pearl Jam': 'París', 'Radiohead': 'Berlín', 'Red Hot Chili Peppers': 'Roma', 'The Smashing Pumpkins': 'Madrid', 'Oasis': 'Ámsterdam', 'Green Day': 'Lisboa', 'Foo Fighters': 'Praga', 'Blur': 'Dublín', 'Metallica': 'Viena'}\n"
          ]
        }
      ]
    },
    {
      "cell_type": "code",
      "source": [
        "# Mostrar relación de grupos y ciudades\n",
        "print(\"Estos son los conciertos para esta semana:\")\n",
        "for grupo, ciudad in conciertos.items():\n",
        "    print(f\"{grupo} >> {ciudad}\")\n"
      ],
      "metadata": {
        "colab": {
          "base_uri": "https://localhost:8080/"
        },
        "id": "gF0CQ1Xqw60g",
        "outputId": "650bee3b-a952-48ff-899e-0462a6e63028"
      },
      "execution_count": 8,
      "outputs": [
        {
          "output_type": "stream",
          "name": "stdout",
          "text": [
            "Estos son los conciertos para esta semana:\n",
            "Nirvana >> Londres\n",
            "Pearl Jam >> París\n",
            "Radiohead >> Berlín\n",
            "Red Hot Chili Peppers >> Roma\n",
            "The Smashing Pumpkins >> Madrid\n",
            "Oasis >> Ámsterdam\n",
            "Green Day >> Lisboa\n",
            "Foo Fighters >> Praga\n",
            "Blur >> Dublín\n",
            "Metallica >> Viena\n"
          ]
        }
      ]
    },
    {
      "cell_type": "code",
      "source": [
        "# Actualizar las ciudades\n",
        "nuevas_ciudades = [\"Estocolmo\", \"Copenhague\", \"Bruselas\", \"Helsinki\", \"Múnich\",\n",
        "                   \"Oslo\", \"Zúrich\", \"Varsovia\", \"Budapest\", \"Edimburgo\"]\n",
        "\n",
        "# asginar nuevas ciudades a los grupos\n",
        "i = 0\n",
        "for grupo, antigua_ciudad in conciertos.items():\n",
        "  conciertos[grupo] = nuevas_ciudades[i]\n",
        "  i +=1\n",
        "\n",
        "# Mostrar la nueva relación de grupos y ciudades\n",
        "print(\"Estos son los conciertos actualizados para esta semana:\")\n",
        "for grupo, ciudad in conciertos.items():\n",
        "    print(f\"{grupo} >> {ciudad}\")\n"
      ],
      "metadata": {
        "colab": {
          "base_uri": "https://localhost:8080/"
        },
        "id": "iF4SN3-TxmUY",
        "outputId": "ed90cf8d-f2ea-492a-a5c1-a6333a73f2c0"
      },
      "execution_count": 24,
      "outputs": [
        {
          "output_type": "stream",
          "name": "stdout",
          "text": [
            "Estos son los conciertos actualizados para esta semana:\n",
            "Nirvana >> Estocolmo\n",
            "Pearl Jam >> Copenhague\n",
            "Radiohead >> Bruselas\n",
            "Red Hot Chili Peppers >> Helsinki\n",
            "The Smashing Pumpkins >> Múnich\n",
            "Oasis >> Oslo\n",
            "Green Day >> Zúrich\n",
            "Foo Fighters >> Varsovia\n",
            "Blur >> Budapest\n",
            "Metallica >> Edimburgo\n"
          ]
        }
      ]
    },
    {
      "cell_type": "markdown",
      "source": [
        "### 🔍 Muestras adicionales de texto Markdown\n",
        "\n",
        "Cheatsheet de cómo usar Markdown en textos:\n",
        "\n",
        "1. **Negrita**: Se utiliza `**texto**` para hacer texto **negrita**.\n",
        "2. *Itálica*: Se utiliza `*texto*` para hacer texto *itálica*.\n",
        "3. **Listas numeradas**:\n",
        "   1. Elemento 1\n",
        "   2. Elemento 2\n",
        "   3. Elemento 3\n",
        "4. **Listas con viñetas**:\n",
        "   - Viñeta 1\n",
        "   - Viñeta 2\n",
        "   - Viñeta 3\n",
        "5. `Código en línea`: Se utiliza `` `código` `` para resaltar fragmentos de código en el texto.\n",
        "6. Bloques de código:\n",
        "   ```python\n",
        "   # Esto es un bloque de código Python\n",
        "   print(\"Hola, Markdown!\")\n"
      ],
      "metadata": {
        "id": "jj2pEzFR4tRS"
      }
    }
  ]
}